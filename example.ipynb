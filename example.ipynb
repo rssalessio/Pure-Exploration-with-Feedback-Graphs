{
 "cells": [
  {
   "cell_type": "code",
   "execution_count": 3,
   "metadata": {},
   "outputs": [],
   "source": [
    "import numpy as np\n",
    "import pandas as pd\n",
    "import seaborn as sns\n",
    "import matplotlib.pyplot as plt\n",
    "from environment import run_experiment, RunParameters, RunStatistics\n",
    "from baifg.model.feedback_graph import FeedbackGraph\n",
    "from baifg.model.reward_model import GaussianRewardModel, RewardType\n",
    "from baifg.algorithms.eps_greedy import EpsilonGreedy, EpsilonGreedyParameters\n",
    "from baifg.algorithms.ucb import UCB\n",
    "from baifg.algorithms.exp3g import Exp3G, Exp3GParameters\n",
    "from baifg.algorithms.base.graph_estimator import GraphEstimator\n",
    "from baifg.algorithms.base.base_algorithm import BaseAlg\n",
    "from baifg.utils.graphs import make_loopless_clique\n",
    "from itertools import product\n",
    "from typing import List, NamedTuple\n",
    "from tqdm import tqdm\n",
    "\n",
    "def make_model(algo_name: BaseAlg, algo_params: NamedTuple, K: int, fg: FeedbackGraph, delta: float, informed: bool) -> BaseAlg:\n",
    "    if algo_name == EpsilonGreedy:\n",
    "        return EpsilonGreedy(\n",
    "            GraphEstimator.optimistic_graph(K, informed=informed, known=False),\n",
    "            fg.reward_model.reward_type,\n",
    "            delta=delta,\n",
    "            parameters=algo_params)\n",
    "    elif algo_name == UCB:\n",
    "        return UCB(\n",
    "            GraphEstimator.optimistic_graph(K, informed=informed, known=False),\n",
    "            reward_type=fg.reward_model.reward_type,\n",
    "            delta=delta)\n",
    "    elif algo_name == Exp3G:\n",
    "        return Exp3G(\n",
    "            GraphEstimator.optimistic_graph(K, informed=informed, known=False),\n",
    "            reward_type=fg.reward_model.reward_type,\n",
    "            delta=delta,\n",
    "            parameters=algo_params\n",
    "        )\n",
    "    raise Exception('Algorithm not found')\n",
    "\n"
   ]
  },
  {
   "cell_type": "code",
   "execution_count": 5,
   "metadata": {},
   "outputs": [
    {
     "data": {
      "text/plain": [
       "RunStatistics(estimated_best_vertex=np.int64(4), stopping_time=3006)"
      ]
     },
     "execution_count": 5,
     "metadata": {},
     "output_type": "execute_result"
    }
   ],
   "source": [
    "K=5\n",
    "fg=make_loopless_clique(p=0.5, mu=np.linspace(0, 1, K))\n",
    "algo = make_model(algName=UCB, K=fg.K, fg=fg, delta=1e-2, informed=False)\n",
    "results = run_experiment(fg=fg, algo=algo, seed=0)\n",
    "results"
   ]
  },
  {
   "cell_type": "code",
   "execution_count": 15,
   "metadata": {},
   "outputs": [
    {
     "data": {
      "text/plain": [
       "array([0.38811881, 0.38811881, 0.12673267, 0.0970297 ])"
      ]
     },
     "execution_count": 15,
     "metadata": {},
     "output_type": "execute_result"
    }
   ],
   "source": [
    "gaps = rm.gaps.copy() ** 2\n",
    "gaps[0] = gaps[1]\n",
    "\n",
    "x = ( 1 / gaps)\n",
    "x = x / x.sum()\n",
    "x"
   ]
  }
 ],
 "metadata": {
  "kernelspec": {
   "display_name": ".venv",
   "language": "python",
   "name": "python3"
  },
  "language_info": {
   "codemirror_mode": {
    "name": "ipython",
    "version": 3
   },
   "file_extension": ".py",
   "mimetype": "text/x-python",
   "name": "python",
   "nbconvert_exporter": "python",
   "pygments_lexer": "ipython3",
   "version": "3.11.9"
  }
 },
 "nbformat": 4,
 "nbformat_minor": 2
}
