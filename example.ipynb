{
 "cells": [
  {
   "cell_type": "code",
   "execution_count": 1,
   "metadata": {},
   "outputs": [],
   "source": [
    "import numpy as np\n",
    "import pandas as pd\n",
    "import seaborn as sns\n",
    "import matplotlib.pyplot as plt\n",
    "from environment import run_experiment, RunParameters, RunStatistics\n",
    "from baifg.model.feedback_graph import FeedbackGraph\n",
    "from baifg.model.reward_model import GaussianRewardModel, RewardType\n",
    "from baifg.algorithms.eps_greedy import EpsilonGreedy, EpsilonGreedyParameters\n",
    "from baifg.algorithms.ucb import UCB\n",
    "from baifg.algorithms.exp3g import Exp3G, Exp3GParameters\n",
    "from baifg.algorithms.tas_fg import TaSFG, TaSFGParameters\n",
    "from baifg.algorithms.base.graph_estimator import GraphEstimator\n",
    "from baifg.algorithms.base.base_algorithm import BaseAlg\n",
    "from baifg.utils.graphs import make_loopless_clique\n",
    "from itertools import product\n",
    "from typing import List, NamedTuple\n",
    "from tqdm import tqdm\n",
    "\n",
    "def make_model(algo_name: BaseAlg, algo_params: NamedTuple, K: int, fg: FeedbackGraph, delta: float, informed: bool) -> BaseAlg:\n",
    "    if algo_name == EpsilonGreedy:\n",
    "        return EpsilonGreedy(\n",
    "            GraphEstimator.optimistic_graph(K, informed=informed, known=False),\n",
    "            fg.reward_model.reward_type,\n",
    "            delta=delta,\n",
    "            parameters=algo_params)\n",
    "    elif algo_name == UCB:\n",
    "        return UCB(\n",
    "            GraphEstimator.optimistic_graph(K, informed=informed, known=False),\n",
    "            reward_type=fg.reward_model.reward_type,\n",
    "            delta=delta)\n",
    "    elif algo_name == Exp3G:\n",
    "        return Exp3G(\n",
    "            GraphEstimator.optimistic_graph(K, informed=informed, known=False),\n",
    "            reward_type=fg.reward_model.reward_type,\n",
    "            delta=delta,\n",
    "            parameters=algo_params\n",
    "        )\n",
    "    elif algo_name == TaSFG:\n",
    "        return TaSFG(\n",
    "            GraphEstimator.optimistic_graph(K, informed=informed, known=False),\n",
    "            reward_type=fg.reward_model.reward_type,\n",
    "            delta=delta, parameters=TaSFGParameters(update_frequency=2 * K)\n",
    "        )\n",
    "    raise Exception('Algorithm not found')\n",
    "\n"
   ]
  },
  {
   "cell_type": "code",
   "execution_count": 2,
   "metadata": {},
   "outputs": [
    {
     "data": {
      "text/plain": [
       "RunStatistics(estimated_best_vertex=np.int64(4), stopping_time=1623)"
      ]
     },
     "execution_count": 2,
     "metadata": {},
     "output_type": "execute_result"
    }
   ],
   "source": [
    "K=5\n",
    "fg=make_loopless_clique(p=0.5, mu=np.linspace(0, 1, K))\n",
    "algo = make_model(algo_name=TaSFG, algo_params=TaSFGParameters(update_frequency=5),\n",
    "                   K=fg.K, fg=fg, delta=1e-2, informed=False)\n",
    "results = run_experiment(fg=fg, algo=algo, seed=0)\n",
    "results"
   ]
  },
  {
   "cell_type": "code",
   "execution_count": 3,
   "metadata": {},
   "outputs": [
    {
     "name": "stdout",
     "output_type": "stream",
     "text": [
      "[589. 294. 309. 248. 182.]\n",
      "[861. 396. 899. 434. 965.]\n",
      "[-0.00539617  0.19448235  0.45827099  0.77825859  0.98934371]\n",
      "[[0.   0.51 0.49 0.5  0.47]\n",
      " [0.77 0.   0.74 0.26 0.74]\n",
      " [0.82 0.16 0.   0.17 0.85]\n",
      " [0.9  0.15 0.91 0.   0.85]\n",
      " [0.9  0.08 0.92 0.1  0.01]]\n",
      "[[0.         0.5        0.5        0.5        0.5       ]\n",
      " [0.75       0.         0.75       0.25       0.75      ]\n",
      " [0.83333333 0.16666667 0.         0.16666667 0.83333333]\n",
      " [0.875      0.125      0.875      0.         0.875     ]\n",
      " [0.9        0.1        0.9        0.1        0.        ]]\n"
     ]
    }
   ],
   "source": [
    "print(algo.N)\n",
    "print(algo.reward.M)\n",
    "print(algo.reward.mu)\n",
    "print(algo.graph.G.round(2))\n",
    "print(fg.graph.G)\n"
   ]
  }
 ],
 "metadata": {
  "kernelspec": {
   "display_name": ".venv",
   "language": "python",
   "name": "python3"
  },
  "language_info": {
   "codemirror_mode": {
    "name": "ipython",
    "version": 3
   },
   "file_extension": ".py",
   "mimetype": "text/x-python",
   "name": "python",
   "nbconvert_exporter": "python",
   "pygments_lexer": "ipython3",
   "version": "3.11.9"
  }
 },
 "nbformat": 4,
 "nbformat_minor": 2
}
