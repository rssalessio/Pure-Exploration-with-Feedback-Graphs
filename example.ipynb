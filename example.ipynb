{
 "cells": [
  {
   "cell_type": "code",
   "execution_count": 1,
   "metadata": {},
   "outputs": [],
   "source": [
    "import numpy as np\n",
    "from characteristic_time import compute_characteristic_time\n",
    "from feedback_graph import FeedbackGraph, Graph\n",
    "from reward_model import GaussianRewardModel\n",
    "\n",
    "mu = [0.9, 0.5, 0.2 , 0.1]\n",
    "G = np.array([\n",
    "    [0, 0.1, 0.1, 0],\n",
    "    [0.3, 0, 0, 0.3],\n",
    "    [0.2, 0.2, 0.2, 0.2],\n",
    "    [0.5, 0.5, 0, 0]\n",
    "])\n",
    "reward_model = GaussianRewardModel(mu)\n",
    "graph = Graph()\n",
    "\n",
    "\n",
    "\n"
   ]
  }
 ],
 "metadata": {
  "kernelspec": {
   "display_name": ".venv",
   "language": "python",
   "name": "python3"
  },
  "language_info": {
   "codemirror_mode": {
    "name": "ipython",
    "version": 3
   },
   "file_extension": ".py",
   "mimetype": "text/x-python",
   "name": "python",
   "nbconvert_exporter": "python",
   "pygments_lexer": "ipython3",
   "version": "3.11.9"
  }
 },
 "nbformat": 4,
 "nbformat_minor": 2
}
