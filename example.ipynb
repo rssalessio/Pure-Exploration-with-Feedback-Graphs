{
 "cells": [
  {
   "cell_type": "code",
   "execution_count": 14,
   "metadata": {},
   "outputs": [
    {
     "data": {
      "text/plain": [
       "(218.18185731332258,\n",
       " array([1.98387007e-09, 4.27471668e-01, 4.63015549e-01, 1.09512780e-01]),\n",
       " array([0.1282415 , 0.10355439, 0.02190256, 0.13890466]),\n",
       " array([218.18185731]))"
      ]
     },
     "execution_count": 14,
     "metadata": {},
     "output_type": "execute_result"
    }
   ],
   "source": [
    "import numpy as np\n",
    "from characteristic_time import compute_characteristic_time\n",
    "from feedback_graph import FeedbackGraph, Graph\n",
    "from reward_model import GaussianRewardModel\n",
    "\n",
    "mu = [0.9, 0.5, 0.2 , 0.1]\n",
    "G = np.array([\n",
    "    [0, 0.1, 0.1, 0],\n",
    "    [0.3, 0, 0, 0],\n",
    "    [0., 0.2, 0, 0.3],\n",
    "    [0., 0.1, 0.2, 0.]\n",
    "])\n",
    "rm = GaussianRewardModel(mu)\n",
    "graph = Graph(G)\n",
    "fg = FeedbackGraph(reward_model=rm, graph=graph)\n",
    "\n",
    "\n",
    "compute_characteristic_time(fg)\n",
    "\n"
   ]
  },
  {
   "cell_type": "code",
   "execution_count": 21,
   "metadata": {},
   "outputs": [
    {
     "data": {
      "text/plain": [
       "np.float64(749.9999999999998)"
      ]
     },
     "execution_count": 21,
     "metadata": {},
     "output_type": "execute_result"
    }
   ],
   "source": [
    "12/np.min(np.minimum([0.1, 0.1, 0.3], 0.3)* ( fg.reward_model.gaps[1:] ** 2))"
   ]
  },
  {
   "cell_type": "code",
   "execution_count": 15,
   "metadata": {},
   "outputs": [
    {
     "data": {
      "text/plain": [
       "array([0.38811881, 0.38811881, 0.12673267, 0.0970297 ])"
      ]
     },
     "execution_count": 15,
     "metadata": {},
     "output_type": "execute_result"
    }
   ],
   "source": [
    "gaps = rm.gaps.copy() ** 2\n",
    "gaps[0] = gaps[1]\n",
    "\n",
    "x = ( 1 / gaps)\n",
    "x = x / x.sum()\n",
    "x"
   ]
  }
 ],
 "metadata": {
  "kernelspec": {
   "display_name": ".venv",
   "language": "python",
   "name": "python3"
  },
  "language_info": {
   "codemirror_mode": {
    "name": "ipython",
    "version": 3
   },
   "file_extension": ".py",
   "mimetype": "text/x-python",
   "name": "python",
   "nbconvert_exporter": "python",
   "pygments_lexer": "ipython3",
   "version": "3.11.9"
  }
 },
 "nbformat": 4,
 "nbformat_minor": 2
}
