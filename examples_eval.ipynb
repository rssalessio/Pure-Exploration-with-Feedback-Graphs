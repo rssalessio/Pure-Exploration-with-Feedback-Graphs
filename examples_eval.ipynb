{
 "cells": [
  {
   "cell_type": "code",
   "execution_count": 14,
   "metadata": {},
   "outputs": [
    {
     "name": "stdout",
     "output_type": "stream",
     "text": [
      "6.0\n",
      "6.0\n",
      "6.0\n",
      "6.0\n",
      "6.0\n",
      "6.0\n",
      "6.0\n",
      "6.0\n",
      "6.0\n",
      "6.0\n"
     ]
    }
   ],
   "source": [
    "from characteristic_time import evaluate_characteristic_time_gaussian, compute_characteristic_time_gaussian\n",
    "from feedback_graph import FeedbackGraph, Graph\n",
    "from reward_model import GaussianRewardModel\n",
    "\n",
    "import numpy as np\n",
    "\n",
    "G = np.array([\n",
    "    [0.5, 1, 0.5],\n",
    "    [0., 0, 0],\n",
    "    [0.5,1,0.5]\n",
    "])\n",
    "R = GaussianRewardModel([0, 1, 0])\n",
    "G = Graph(G)\n",
    "fg = FeedbackGraph(R, G)\n",
    "v0 = compute_characteristic_time_gaussian(fg)[0]\n",
    "\n",
    "w1 = np.array([1, 0, 0])\n",
    "w2 = np.array([0, 0, 1])\n",
    "w3 = np.array([0.1, 0, 0.9])\n",
    "for x in np.linspace(0, 1, 10):\n",
    "    w = np.array([x, 0, 1-x])\n",
    "    v = evaluate_characteristic_time_gaussian(w, fg)\n",
    "    print(v)"
   ]
  }
 ],
 "metadata": {
  "kernelspec": {
   "display_name": ".venv",
   "language": "python",
   "name": "python3"
  },
  "language_info": {
   "codemirror_mode": {
    "name": "ipython",
    "version": 3
   },
   "file_extension": ".py",
   "mimetype": "text/x-python",
   "name": "python",
   "nbconvert_exporter": "python",
   "pygments_lexer": "ipython3",
   "version": "3.11.9"
  }
 },
 "nbformat": 4,
 "nbformat_minor": 2
}
