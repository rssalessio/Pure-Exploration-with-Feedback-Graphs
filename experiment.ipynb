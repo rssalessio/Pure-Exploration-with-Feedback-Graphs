{
 "cells": [
  {
   "cell_type": "code",
   "execution_count": 1,
   "metadata": {},
   "outputs": [],
   "source": [
    "import numpy as np\n",
    "import pandas as pd\n",
    "import seaborn as sns\n",
    "import matplotlib.pyplot as plt\n",
    "from environment import run_experiment, RunParameters, RunStatistics\n",
    "from baifg.model.feedback_graph import FeedbackGraph\n",
    "from baifg.model.reward_model import GaussianRewardModel, RewardType\n",
    "from baifg.algorithms.eps_greedy import EpsilonGreedy, EpsilonGreedyParameters\n",
    "from baifg.algorithms.ucb import UCB\n",
    "from baifg.algorithms.exp3g import Exp3G, Exp3GParameters\n",
    "from baifg.algorithms.tas_fg import TaSFG, TaSFGParameters\n",
    "from baifg.algorithms.base.graph_estimator import GraphEstimator\n",
    "from baifg.algorithms.base.base_algorithm import BaseAlg\n",
    "from baifg.utils.graphs import make_loopless_clique, make_loopystar_graph\n",
    "from itertools import product\n",
    "from typing import List, NamedTuple\n",
    "from tqdm import tqdm\n",
    "\n",
    "def make_model(algo_name: BaseAlg, algo_params: NamedTuple, K: int, fg: FeedbackGraph, delta: float, informed: bool) -> BaseAlg:\n",
    "    if algo_name == EpsilonGreedy:\n",
    "        return EpsilonGreedy(\n",
    "            GraphEstimator.optimistic_graph(K, informed=informed, known=False),\n",
    "            fg.reward_model.reward_type,\n",
    "            delta=delta,\n",
    "            parameters=algo_params)\n",
    "    elif algo_name == UCB:\n",
    "        return UCB(\n",
    "            GraphEstimator.optimistic_graph(K, informed=informed, known=False),\n",
    "            reward_type=fg.reward_model.reward_type,\n",
    "            delta=delta)\n",
    "    elif algo_name == Exp3G:\n",
    "        return Exp3G(\n",
    "            GraphEstimator.optimistic_graph(K, informed=informed, known=False),\n",
    "            reward_type=fg.reward_model.reward_type,\n",
    "            delta=delta,\n",
    "            parameters=algo_params\n",
    "        )\n",
    "    elif algo_name == TaSFG:\n",
    "        return TaSFG(\n",
    "            GraphEstimator.optimistic_graph(K, informed=informed, known=False),\n",
    "            reward_type=fg.reward_model.reward_type,\n",
    "            delta=delta, parameters=TaSFGParameters(update_frequency=2 * K)\n",
    "        )\n",
    "    raise Exception('Algorithm not found')\n",
    "\n"
   ]
  },
  {
   "cell_type": "code",
   "execution_count": 2,
   "metadata": {},
   "outputs": [],
   "source": [
    "envs: List[RunParameters] = []\n",
    "Kvalues = [5,7,10]\n",
    "delta = np.exp(-np.linspace(1,6,4))\n",
    "\n",
    "for K, delta, informed in product(Kvalues, delta, [False]):\n",
    "    envs.append(\n",
    "        RunParameters('Loopless clique', f'p=0.5, K={K}, delta={delta}, informed={informed}', delta, informed=True,\n",
    "                      known=False, fg=make_loopless_clique(p=0.5, mu=np.linspace(0, 1, K)),\n",
    "                      results = {})\n",
    "    )\n",
    "    envs.append(\n",
    "        RunParameters('Loopystar', f'p=0.2, q=0.25, r=0.25 K={K}, delta={delta}, informed={informed}', delta, informed=True,\n",
    "                      known=False, fg=make_loopystar_graph(p=0.2, q=0.25, r=0.25, K=K),\n",
    "                      results = {})\n",
    "    )\n",
    "\n",
    "algorithms = [\n",
    "    (EpsilonGreedy, EpsilonGreedyParameters(exp_rate=0.25, information_greedy=False)),\n",
    "    (EpsilonGreedy, EpsilonGreedyParameters(exp_rate=0.25, information_greedy=True)),\n",
    "    (Exp3G, Exp3GParameters(exp_rate=0.25, learn_rate=0.1)),\n",
    "    (TaSFG, TaSFGParameters(update_frequency=10)),\n",
    "    (UCB, None)\n",
    "]"
   ]
  },
  {
   "cell_type": "code",
   "execution_count": 3,
   "metadata": {},
   "outputs": [
    {
     "name": "stdout",
     "output_type": "stream",
     "text": [
      "Running Loopless clique - p=0.5, K=5, delta=0.36787944117144233, informed=False\n"
     ]
    },
    {
     "name": "stderr",
     "output_type": "stream",
     "text": [
      "  0%|          | 0/5 [00:00<?, ?it/s]"
     ]
    },
    {
     "name": "stderr",
     "output_type": "stream",
     "text": [
      "100%|██████████| 5/5 [00:11<00:00,  2.25s/it]\n"
     ]
    },
    {
     "name": "stdout",
     "output_type": "stream",
     "text": [
      "Running Loopystar - p=0.2, q=0.25, r=0.25 K=5, delta=0.36787944117144233, informed=False\n"
     ]
    },
    {
     "name": "stderr",
     "output_type": "stream",
     "text": [
      "100%|██████████| 5/5 [00:09<00:00,  1.83s/it]\n"
     ]
    },
    {
     "name": "stdout",
     "output_type": "stream",
     "text": [
      "Running Loopless clique - p=0.5, K=5, delta=0.06948345122280151, informed=False\n"
     ]
    },
    {
     "name": "stderr",
     "output_type": "stream",
     "text": [
      "100%|██████████| 5/5 [00:27<00:00,  5.51s/it]\n"
     ]
    },
    {
     "name": "stdout",
     "output_type": "stream",
     "text": [
      "Running Loopystar - p=0.2, q=0.25, r=0.25 K=5, delta=0.06948345122280151, informed=False\n"
     ]
    },
    {
     "name": "stderr",
     "output_type": "stream",
     "text": [
      "100%|██████████| 5/5 [00:25<00:00,  5.10s/it]\n"
     ]
    },
    {
     "name": "stdout",
     "output_type": "stream",
     "text": [
      "Running Loopless clique - p=0.5, K=5, delta=0.013123728736940956, informed=False\n"
     ]
    },
    {
     "name": "stderr",
     "output_type": "stream",
     "text": [
      "100%|██████████| 5/5 [00:39<00:00,  7.80s/it]\n"
     ]
    },
    {
     "name": "stdout",
     "output_type": "stream",
     "text": [
      "Running Loopystar - p=0.2, q=0.25, r=0.25 K=5, delta=0.013123728736940956, informed=False\n"
     ]
    },
    {
     "name": "stderr",
     "output_type": "stream",
     "text": [
      "100%|██████████| 5/5 [00:40<00:00,  8.19s/it]\n"
     ]
    },
    {
     "name": "stdout",
     "output_type": "stream",
     "text": [
      "Running Loopless clique - p=0.5, K=5, delta=0.0024787521766663585, informed=False\n"
     ]
    },
    {
     "name": "stderr",
     "output_type": "stream",
     "text": [
      "100%|██████████| 5/5 [01:04<00:00, 12.94s/it]\n"
     ]
    },
    {
     "name": "stdout",
     "output_type": "stream",
     "text": [
      "Running Loopystar - p=0.2, q=0.25, r=0.25 K=5, delta=0.0024787521766663585, informed=False\n"
     ]
    },
    {
     "name": "stderr",
     "output_type": "stream",
     "text": [
      "100%|██████████| 5/5 [01:26<00:00, 17.31s/it]\n"
     ]
    },
    {
     "name": "stdout",
     "output_type": "stream",
     "text": [
      "Running Loopless clique - p=0.5, K=7, delta=0.36787944117144233, informed=False\n"
     ]
    },
    {
     "name": "stderr",
     "output_type": "stream",
     "text": [
      "100%|██████████| 5/5 [00:10<00:00,  2.11s/it]\n"
     ]
    },
    {
     "name": "stdout",
     "output_type": "stream",
     "text": [
      "Running Loopystar - p=0.2, q=0.25, r=0.25 K=7, delta=0.36787944117144233, informed=False\n"
     ]
    },
    {
     "name": "stderr",
     "output_type": "stream",
     "text": [
      "100%|██████████| 5/5 [00:14<00:00,  2.91s/it]\n"
     ]
    },
    {
     "name": "stdout",
     "output_type": "stream",
     "text": [
      "Running Loopless clique - p=0.5, K=7, delta=0.06948345122280151, informed=False\n"
     ]
    },
    {
     "name": "stderr",
     "output_type": "stream",
     "text": [
      "100%|██████████| 5/5 [00:43<00:00,  8.67s/it]\n"
     ]
    },
    {
     "name": "stdout",
     "output_type": "stream",
     "text": [
      "Running Loopystar - p=0.2, q=0.25, r=0.25 K=7, delta=0.06948345122280151, informed=False\n"
     ]
    },
    {
     "name": "stderr",
     "output_type": "stream",
     "text": [
      "100%|██████████| 5/5 [00:35<00:00,  7.11s/it]\n"
     ]
    },
    {
     "name": "stdout",
     "output_type": "stream",
     "text": [
      "Running Loopless clique - p=0.5, K=7, delta=0.013123728736940956, informed=False\n"
     ]
    },
    {
     "name": "stderr",
     "output_type": "stream",
     "text": [
      "100%|██████████| 5/5 [01:19<00:00, 15.91s/it]\n"
     ]
    },
    {
     "name": "stdout",
     "output_type": "stream",
     "text": [
      "Running Loopystar - p=0.2, q=0.25, r=0.25 K=7, delta=0.013123728736940956, informed=False\n"
     ]
    },
    {
     "name": "stderr",
     "output_type": "stream",
     "text": [
      "100%|██████████| 5/5 [01:28<00:00, 17.74s/it]\n"
     ]
    },
    {
     "name": "stdout",
     "output_type": "stream",
     "text": [
      "Running Loopless clique - p=0.5, K=7, delta=0.0024787521766663585, informed=False\n"
     ]
    },
    {
     "name": "stderr",
     "output_type": "stream",
     "text": [
      "100%|██████████| 5/5 [02:06<00:00, 25.33s/it]\n"
     ]
    },
    {
     "name": "stdout",
     "output_type": "stream",
     "text": [
      "Running Loopystar - p=0.2, q=0.25, r=0.25 K=7, delta=0.0024787521766663585, informed=False\n"
     ]
    },
    {
     "name": "stderr",
     "output_type": "stream",
     "text": [
      "100%|██████████| 5/5 [01:25<00:00, 17.06s/it]\n"
     ]
    },
    {
     "name": "stdout",
     "output_type": "stream",
     "text": [
      "Running Loopless clique - p=0.5, K=10, delta=0.36787944117144233, informed=False\n"
     ]
    },
    {
     "name": "stderr",
     "output_type": "stream",
     "text": [
      "100%|██████████| 5/5 [00:32<00:00,  6.46s/it]\n"
     ]
    },
    {
     "name": "stdout",
     "output_type": "stream",
     "text": [
      "Running Loopystar - p=0.2, q=0.25, r=0.25 K=10, delta=0.36787944117144233, informed=False\n"
     ]
    },
    {
     "name": "stderr",
     "output_type": "stream",
     "text": [
      "100%|██████████| 5/5 [00:12<00:00,  2.48s/it]\n"
     ]
    },
    {
     "name": "stdout",
     "output_type": "stream",
     "text": [
      "Running Loopless clique - p=0.5, K=10, delta=0.06948345122280151, informed=False\n"
     ]
    },
    {
     "name": "stderr",
     "output_type": "stream",
     "text": [
      "100%|██████████| 5/5 [01:21<00:00, 16.22s/it]\n"
     ]
    },
    {
     "name": "stdout",
     "output_type": "stream",
     "text": [
      "Running Loopystar - p=0.2, q=0.25, r=0.25 K=10, delta=0.06948345122280151, informed=False\n"
     ]
    },
    {
     "name": "stderr",
     "output_type": "stream",
     "text": [
      "100%|██████████| 5/5 [00:28<00:00,  5.76s/it]\n"
     ]
    },
    {
     "name": "stdout",
     "output_type": "stream",
     "text": [
      "Running Loopless clique - p=0.5, K=10, delta=0.013123728736940956, informed=False\n"
     ]
    },
    {
     "name": "stderr",
     "output_type": "stream",
     "text": [
      "100%|██████████| 5/5 [02:29<00:00, 29.96s/it]\n"
     ]
    },
    {
     "name": "stdout",
     "output_type": "stream",
     "text": [
      "Running Loopystar - p=0.2, q=0.25, r=0.25 K=10, delta=0.013123728736940956, informed=False\n"
     ]
    },
    {
     "name": "stderr",
     "output_type": "stream",
     "text": [
      "100%|██████████| 5/5 [00:46<00:00,  9.26s/it]\n"
     ]
    },
    {
     "name": "stdout",
     "output_type": "stream",
     "text": [
      "Running Loopless clique - p=0.5, K=10, delta=0.0024787521766663585, informed=False\n"
     ]
    },
    {
     "name": "stderr",
     "output_type": "stream",
     "text": [
      "100%|██████████| 5/5 [03:14<00:00, 38.90s/it]\n"
     ]
    },
    {
     "name": "stdout",
     "output_type": "stream",
     "text": [
      "Running Loopystar - p=0.2, q=0.25, r=0.25 K=10, delta=0.0024787521766663585, informed=False\n"
     ]
    },
    {
     "name": "stderr",
     "output_type": "stream",
     "text": [
      "100%|██████████| 5/5 [01:02<00:00, 12.58s/it]\n"
     ]
    }
   ],
   "source": [
    "\n",
    "Nsims = 5\n",
    "\n",
    "df = pd.DataFrame({},  columns =  [\"env\", \"K\", \"seed\", \"algorithm\", \"delta\", \"stopping_time\", \"identified_optimal_arm\"])\n",
    "\n",
    "for env in envs:\n",
    "    print(f'Running {env.name} - {env.description}')\n",
    "    for n in tqdm(range(Nsims)):\n",
    "        for algo, algo_params in algorithms:\n",
    "            algo = make_model(algo_name=algo, algo_params=algo_params,\n",
    "                              K=env.fg.K, fg=env.fg, delta=env.delta, informed=env.informed)\n",
    "            results = run_experiment(fg=env.fg, algo=algo, seed=n)\n",
    "\n",
    "            if algo.NAME not in env.results:\n",
    "                env.results[algo.NAME] = []\n",
    "            env.results[algo.NAME].append(results)\n",
    "\n",
    "            df.loc[len(df.index)] = [\n",
    "                env.name, env.fg.K, n, algo.NAME, env.delta, results.stopping_time, \n",
    "                results.estimated_best_vertex == env.fg.reward_model.astar]\n"
   ]
  },
  {
   "cell_type": "code",
   "execution_count": 4,
   "metadata": {},
   "outputs": [
    {
     "name": "stderr",
     "output_type": "stream",
     "text": [
      "C:\\Users\\russo\\AppData\\Local\\Temp\\ipykernel_14300\\1743795343.py:3: SettingWithCopyWarning: \n",
      "A value is trying to be set on a copy of a slice from a DataFrame.\n",
      "Try using .loc[row_indexer,col_indexer] = value instead\n",
      "\n",
      "See the caveats in the documentation: https://pandas.pydata.org/pandas-docs/stable/user_guide/indexing.html#returning-a-view-versus-a-copy\n",
      "  filtered_df['delta'] = np.log(1/filtered_df['delta']).round(3)\n"
     ]
    },
    {
     "data": {
      "image/png": "[encoded data removed]",
      "text/plain": [
       "<Figure size 1000x600 with 1 Axes>"
      ]
     },
     "metadata": {},
     "output_type": "display_data"
    }
   ],
   "source": [
    "\n",
    "\n",
    "# Filter the DataFrame for a given environment, e.g., \"Loopless clique\"\n",
    "filtered_df = df[df['env'] == 'Loopystar']\n",
    "filtered_df['delta'] = np.log(1/filtered_df['delta']).round(3)\n",
    "# Create the boxplot\n",
    "plt.figure(figsize=(10, 6))\n",
    "sns.boxplot(x='delta', y='stopping_time', hue='algorithm', data=filtered_df)\n",
    "\n",
    "# Customize labels\n",
    "plt.xlabel(r'$\\ln(1/\\delta)$')\n",
    "plt.ylabel(r'Stopping Time $\\tau$')\n",
    "plt.title('Distribution of Stopping Times by Algorithm for Different Delta Values')\n",
    "plt.legend(title='Algorithm')\n",
    "#plt.gca().invert_xaxis()\n",
    "\n",
    "# Display the plot\n",
    "plt.show()"
   ]
  },
  {
   "cell_type": "code",
   "execution_count": 5,
   "metadata": {},
   "outputs": [
    {
     "name": "stderr",
     "output_type": "stream",
     "text": [
      "C:\\Users\\russo\\AppData\\Local\\Temp\\ipykernel_14300\\599889599.py:3: SettingWithCopyWarning: \n",
      "A value is trying to be set on a copy of a slice from a DataFrame.\n",
      "Try using .loc[row_indexer,col_indexer] = value instead\n",
      "\n",
      "See the caveats in the documentation: https://pandas.pydata.org/pandas-docs/stable/user_guide/indexing.html#returning-a-view-versus-a-copy\n",
      "  filtered_df['delta'] = np.log(1/filtered_df['delta']).round(3)\n"
     ]
    },
    {
     "data": {
      "image/png": "[encoded data removed]",
      "text/plain": [
       "<Figure size 1000x600 with 1 Axes>"
      ]
     },
     "metadata": {},
     "output_type": "display_data"
    }
   ],
   "source": [
    "\n",
    "\n",
    "# Filter the DataFrame for a given environment, e.g., \"Loopless clique\"\n",
    "filtered_df = df[df['env'] == 'Loopless clique']\n",
    "filtered_df['delta'] = np.log(1/filtered_df['delta']).round(3)\n",
    "# Create the boxplot\n",
    "plt.figure(figsize=(10, 6))\n",
    "sns.boxplot(x='delta', y='stopping_time', hue='algorithm', data=filtered_df)\n",
    "\n",
    "# Customize labels\n",
    "plt.xlabel(r'$\\ln(1/\\delta)$')\n",
    "plt.ylabel(r'Stopping Time $\\tau$')\n",
    "plt.title('Distribution of Stopping Times by Algorithm for Different Delta Values')\n",
    "plt.legend(title='Algorithm')\n",
    "#plt.gca().invert_xaxis()\n",
    "\n",
    "# Display the plot\n",
    "plt.show()"
   ]
  },
  {
   "cell_type": "code",
   "execution_count": 6,
   "metadata": {},
   "outputs": [
    {
     "data": {
      "text/html": [
       "<div>\n",
       "<style scoped>\n",
       "    .dataframe tbody tr th:only-of-type {\n",
       "        vertical-align: middle;\n",
       "    }\n",
       "\n",
       "    .dataframe tbody tr th {\n",
       "        vertical-align: top;\n",
       "    }\n",
       "\n",
       "    .dataframe thead th {\n",
       "        text-align: right;\n",
       "    }\n",
       "</style>\n",
       "<table border=\"1\" class=\"dataframe\">\n",
       "  <thead>\n",
       "    <tr style=\"text-align: right;\">\n",
       "      <th></th>\n",
       "      <th>env</th>\n",
       "      <th>K</th>\n",
       "      <th>seed</th>\n",
       "      <th>algorithm</th>\n",
       "      <th>delta</th>\n",
       "      <th>stopping_time</th>\n",
       "      <th>identified_optimal_arm</th>\n",
       "    </tr>\n",
       "  </thead>\n",
       "  <tbody>\n",
       "    <tr>\n",
       "      <th>0</th>\n",
       "      <td>Loopless clique</td>\n",
       "      <td>5</td>\n",
       "      <td>0</td>\n",
       "      <td>Epsilon-greedy</td>\n",
       "      <td>0.367879</td>\n",
       "      <td>378</td>\n",
       "      <td>True</td>\n",
       "    </tr>\n",
       "    <tr>\n",
       "      <th>1</th>\n",
       "      <td>Loopless clique</td>\n",
       "      <td>5</td>\n",
       "      <td>0</td>\n",
       "      <td>Epsilon-greedy IG</td>\n",
       "      <td>0.367879</td>\n",
       "      <td>190</td>\n",
       "      <td>True</td>\n",
       "    </tr>\n",
       "    <tr>\n",
       "      <th>2</th>\n",
       "      <td>Loopless clique</td>\n",
       "      <td>5</td>\n",
       "      <td>0</td>\n",
       "      <td>EXP3.G</td>\n",
       "      <td>0.367879</td>\n",
       "      <td>2537</td>\n",
       "      <td>True</td>\n",
       "    </tr>\n",
       "    <tr>\n",
       "      <th>3</th>\n",
       "      <td>Loopless clique</td>\n",
       "      <td>5</td>\n",
       "      <td>0</td>\n",
       "      <td>TaSFG</td>\n",
       "      <td>0.367879</td>\n",
       "      <td>566</td>\n",
       "      <td>True</td>\n",
       "    </tr>\n",
       "    <tr>\n",
       "      <th>4</th>\n",
       "      <td>Loopless clique</td>\n",
       "      <td>5</td>\n",
       "      <td>0</td>\n",
       "      <td>UCB</td>\n",
       "      <td>0.367879</td>\n",
       "      <td>6</td>\n",
       "      <td>False</td>\n",
       "    </tr>\n",
       "    <tr>\n",
       "      <th>...</th>\n",
       "      <td>...</td>\n",
       "      <td>...</td>\n",
       "      <td>...</td>\n",
       "      <td>...</td>\n",
       "      <td>...</td>\n",
       "      <td>...</td>\n",
       "      <td>...</td>\n",
       "    </tr>\n",
       "    <tr>\n",
       "      <th>595</th>\n",
       "      <td>Loopystar</td>\n",
       "      <td>10</td>\n",
       "      <td>4</td>\n",
       "      <td>Epsilon-greedy</td>\n",
       "      <td>0.002479</td>\n",
       "      <td>5987</td>\n",
       "      <td>True</td>\n",
       "    </tr>\n",
       "    <tr>\n",
       "      <th>596</th>\n",
       "      <td>Loopystar</td>\n",
       "      <td>10</td>\n",
       "      <td>4</td>\n",
       "      <td>Epsilon-greedy IG</td>\n",
       "      <td>0.002479</td>\n",
       "      <td>677</td>\n",
       "      <td>True</td>\n",
       "    </tr>\n",
       "    <tr>\n",
       "      <th>597</th>\n",
       "      <td>Loopystar</td>\n",
       "      <td>10</td>\n",
       "      <td>4</td>\n",
       "      <td>EXP3.G</td>\n",
       "      <td>0.002479</td>\n",
       "      <td>7849</td>\n",
       "      <td>True</td>\n",
       "    </tr>\n",
       "    <tr>\n",
       "      <th>598</th>\n",
       "      <td>Loopystar</td>\n",
       "      <td>10</td>\n",
       "      <td>4</td>\n",
       "      <td>TaSFG</td>\n",
       "      <td>0.002479</td>\n",
       "      <td>649</td>\n",
       "      <td>True</td>\n",
       "    </tr>\n",
       "    <tr>\n",
       "      <th>599</th>\n",
       "      <td>Loopystar</td>\n",
       "      <td>10</td>\n",
       "      <td>4</td>\n",
       "      <td>UCB</td>\n",
       "      <td>0.002479</td>\n",
       "      <td>16129</td>\n",
       "      <td>True</td>\n",
       "    </tr>\n",
       "  </tbody>\n",
       "</table>\n",
       "<p>600 rows × 7 columns</p>\n",
       "</div>"
      ],
      "text/plain": [
       "                 env   K  seed          algorithm     delta  stopping_time  \\\n",
       "0    Loopless clique   5     0     Epsilon-greedy  0.367879            378   \n",
       "1    Loopless clique   5     0  Epsilon-greedy IG  0.367879            190   \n",
       "2    Loopless clique   5     0             EXP3.G  0.367879           2537   \n",
       "3    Loopless clique   5     0              TaSFG  0.367879            566   \n",
       "4    Loopless clique   5     0                UCB  0.367879              6   \n",
       "..               ...  ..   ...                ...       ...            ...   \n",
       "595        Loopystar  10     4     Epsilon-greedy  0.002479           5987   \n",
       "596        Loopystar  10     4  Epsilon-greedy IG  0.002479            677   \n",
       "597        Loopystar  10     4             EXP3.G  0.002479           7849   \n",
       "598        Loopystar  10     4              TaSFG  0.002479            649   \n",
       "599        Loopystar  10     4                UCB  0.002479          16129   \n",
       "\n",
       "     identified_optimal_arm  \n",
       "0                      True  \n",
       "1                      True  \n",
       "2                      True  \n",
       "3                      True  \n",
       "4                     False  \n",
       "..                      ...  \n",
       "595                    True  \n",
       "596                    True  \n",
       "597                    True  \n",
       "598                    True  \n",
       "599                    True  \n",
       "\n",
       "[600 rows x 7 columns]"
      ]
     },
     "execution_count": 6,
     "metadata": {},
     "output_type": "execute_result"
    }
   ],
   "source": [
    "df"
   ]
  },
  {
   "cell_type": "code",
   "execution_count": 7,
   "metadata": {},
   "outputs": [
    {
     "data": {
      "text/html": [
       "<div>\n",
       "<style scoped>\n",
       "    .dataframe tbody tr th:only-of-type {\n",
       "        vertical-align: middle;\n",
       "    }\n",
       "\n",
       "    .dataframe tbody tr th {\n",
       "        vertical-align: top;\n",
       "    }\n",
       "\n",
       "    .dataframe thead th {\n",
       "        text-align: right;\n",
       "    }\n",
       "</style>\n",
       "<table border=\"1\" class=\"dataframe\">\n",
       "  <thead>\n",
       "    <tr style=\"text-align: right;\">\n",
       "      <th></th>\n",
       "      <th>env</th>\n",
       "      <th>K</th>\n",
       "      <th>seed</th>\n",
       "      <th>algorithm</th>\n",
       "      <th>delta</th>\n",
       "      <th>stopping_time</th>\n",
       "      <th>identified_optimal_arm</th>\n",
       "    </tr>\n",
       "  </thead>\n",
       "  <tbody>\n",
       "    <tr>\n",
       "      <th>0</th>\n",
       "      <td>Loopless clique</td>\n",
       "      <td>5</td>\n",
       "      <td>0</td>\n",
       "      <td>Epsilon-greedy</td>\n",
       "      <td>0.367879</td>\n",
       "      <td>378</td>\n",
       "      <td>True</td>\n",
       "    </tr>\n",
       "    <tr>\n",
       "      <th>1</th>\n",
       "      <td>Loopless clique</td>\n",
       "      <td>5</td>\n",
       "      <td>0</td>\n",
       "      <td>Epsilon-greedy IG</td>\n",
       "      <td>0.367879</td>\n",
       "      <td>190</td>\n",
       "      <td>True</td>\n",
       "    </tr>\n",
       "    <tr>\n",
       "      <th>2</th>\n",
       "      <td>Loopless clique</td>\n",
       "      <td>5</td>\n",
       "      <td>0</td>\n",
       "      <td>EXP3.G</td>\n",
       "      <td>0.367879</td>\n",
       "      <td>2537</td>\n",
       "      <td>True</td>\n",
       "    </tr>\n",
       "    <tr>\n",
       "      <th>3</th>\n",
       "      <td>Loopless clique</td>\n",
       "      <td>5</td>\n",
       "      <td>0</td>\n",
       "      <td>TaSFG</td>\n",
       "      <td>0.367879</td>\n",
       "      <td>566</td>\n",
       "      <td>True</td>\n",
       "    </tr>\n",
       "    <tr>\n",
       "      <th>4</th>\n",
       "      <td>Loopless clique</td>\n",
       "      <td>5</td>\n",
       "      <td>0</td>\n",
       "      <td>UCB</td>\n",
       "      <td>0.367879</td>\n",
       "      <td>6</td>\n",
       "      <td>False</td>\n",
       "    </tr>\n",
       "    <tr>\n",
       "      <th>...</th>\n",
       "      <td>...</td>\n",
       "      <td>...</td>\n",
       "      <td>...</td>\n",
       "      <td>...</td>\n",
       "      <td>...</td>\n",
       "      <td>...</td>\n",
       "      <td>...</td>\n",
       "    </tr>\n",
       "    <tr>\n",
       "      <th>595</th>\n",
       "      <td>Loopystar</td>\n",
       "      <td>10</td>\n",
       "      <td>4</td>\n",
       "      <td>Epsilon-greedy</td>\n",
       "      <td>0.002479</td>\n",
       "      <td>5987</td>\n",
       "      <td>True</td>\n",
       "    </tr>\n",
       "    <tr>\n",
       "      <th>596</th>\n",
       "      <td>Loopystar</td>\n",
       "      <td>10</td>\n",
       "      <td>4</td>\n",
       "      <td>Epsilon-greedy IG</td>\n",
       "      <td>0.002479</td>\n",
       "      <td>677</td>\n",
       "      <td>True</td>\n",
       "    </tr>\n",
       "    <tr>\n",
       "      <th>597</th>\n",
       "      <td>Loopystar</td>\n",
       "      <td>10</td>\n",
       "      <td>4</td>\n",
       "      <td>EXP3.G</td>\n",
       "      <td>0.002479</td>\n",
       "      <td>7849</td>\n",
       "      <td>True</td>\n",
       "    </tr>\n",
       "    <tr>\n",
       "      <th>598</th>\n",
       "      <td>Loopystar</td>\n",
       "      <td>10</td>\n",
       "      <td>4</td>\n",
       "      <td>TaSFG</td>\n",
       "      <td>0.002479</td>\n",
       "      <td>649</td>\n",
       "      <td>True</td>\n",
       "    </tr>\n",
       "    <tr>\n",
       "      <th>599</th>\n",
       "      <td>Loopystar</td>\n",
       "      <td>10</td>\n",
       "      <td>4</td>\n",
       "      <td>UCB</td>\n",
       "      <td>0.002479</td>\n",
       "      <td>16129</td>\n",
       "      <td>True</td>\n",
       "    </tr>\n",
       "  </tbody>\n",
       "</table>\n",
       "<p>600 rows × 7 columns</p>\n",
       "</div>"
      ],
      "text/plain": [
       "                 env   K  seed          algorithm     delta  stopping_time  \\\n",
       "0    Loopless clique   5     0     Epsilon-greedy  0.367879            378   \n",
       "1    Loopless clique   5     0  Epsilon-greedy IG  0.367879            190   \n",
       "2    Loopless clique   5     0             EXP3.G  0.367879           2537   \n",
       "3    Loopless clique   5     0              TaSFG  0.367879            566   \n",
       "4    Loopless clique   5     0                UCB  0.367879              6   \n",
       "..               ...  ..   ...                ...       ...            ...   \n",
       "595        Loopystar  10     4     Epsilon-greedy  0.002479           5987   \n",
       "596        Loopystar  10     4  Epsilon-greedy IG  0.002479            677   \n",
       "597        Loopystar  10     4             EXP3.G  0.002479           7849   \n",
       "598        Loopystar  10     4              TaSFG  0.002479            649   \n",
       "599        Loopystar  10     4                UCB  0.002479          16129   \n",
       "\n",
       "     identified_optimal_arm  \n",
       "0                      True  \n",
       "1                      True  \n",
       "2                      True  \n",
       "3                      True  \n",
       "4                     False  \n",
       "..                      ...  \n",
       "595                    True  \n",
       "596                    True  \n",
       "597                    True  \n",
       "598                    True  \n",
       "599                    True  \n",
       "\n",
       "[600 rows x 7 columns]"
      ]
     },
     "execution_count": 7,
     "metadata": {},
     "output_type": "execute_result"
    }
   ],
   "source": [
    "df"
   ]
  }
 ],
 "metadata": {
  "kernelspec": {
   "display_name": ".venv",
   "language": "python",
   "name": "python3"
  },
  "language_info": {
   "codemirror_mode": {
    "name": "ipython",
    "version": 3
   },
   "file_extension": ".py",
   "mimetype": "text/x-python",
   "name": "python",
   "nbconvert_exporter": "python",
   "pygments_lexer": "ipython3",
   "version": "3.11.9"
  }
 },
 "nbformat": 4,
 "nbformat_minor": 2
}
