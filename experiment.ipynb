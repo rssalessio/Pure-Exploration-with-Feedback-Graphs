{
 "cells": [
  {
   "cell_type": "code",
   "execution_count": 1,
   "metadata": {},
   "outputs": [],
   "source": [
    "import numpy as np\n",
    "from environment import run_experiment, RunParameters, RunStatistics\n",
    "from baifg.model.feedback_graph import FeedbackGraph\n",
    "from baifg.model.reward_model import GaussianRewardModel, RewardType\n",
    "from baifg.algorithms.eps_greedy import EpsilonGreedy, EpsilonGreedyParameters\n",
    "from baifg.algorithms.ucb import UCB\n",
    "from baifg.algorithms.base.graph_estimator import GraphEstimator\n",
    "from baifg.algorithms.base.base_algorithm import BaseAlg\n",
    "from baifg.utils.graphs import make_loopless_clique\n",
    "from itertools import product\n",
    "from typing import List\n",
    "from tqdm import tqdm\n",
    "\n",
    "def make_model(algName: BaseAlg, K: int, fg: FeedbackGraph, delta: float, informed: bool) -> BaseAlg:\n",
    "    if algName == EpsilonGreedy:\n",
    "        return EpsilonGreedy(\n",
    "            GraphEstimator.optimistic_graph(K, informed=informed, known=False),\n",
    "            fg.reward_model.reward_type,\n",
    "            delta=delta,\n",
    "            parameters=EpsilonGreedyParameters(exp_rate=0.3),)\n",
    "    elif algName == UCB:\n",
    "        return UCB(\n",
    "            GraphEstimator.optimistic_graph(K, informed=informed, known=False),\n",
    "            reward_type=fg.reward_model.reward_type,\n",
    "            delta=delta)\n",
    "    raise Exception('Algorithm not found')\n",
    "\n"
   ]
  },
  {
   "cell_type": "code",
   "execution_count": 8,
   "metadata": {},
   "outputs": [],
   "source": [
    "seed = 0\n",
    "\n",
    "envs: List[RunParameters] = []\n",
    "Kvalues = [5, 10, 15]\n",
    "delta = np.exp(-np.linspace(1,9,10))\n",
    "\n",
    "for K, delta, informed in product(Kvalues, delta, [False]):\n",
    "    envs.append(\n",
    "        RunParameters('Loopless clique', f'p=0.5, K={K}, delta={delta}, informed={informed}', delta, informed=True,\n",
    "                      known=False, fg=make_loopless_clique(p=0.5, mu=np.linspace(0, 1, K)),\n",
    "                      results = {})\n",
    "    )\n",
    "\n",
    "algorithms = [EpsilonGreedy, UCB]\n"
   ]
  },
  {
   "cell_type": "code",
   "execution_count": 9,
   "metadata": {},
   "outputs": [
    {
     "name": "stdout",
     "output_type": "stream",
     "text": [
      "Running Loopless clique - p=0.5, K=5, delta=0.36787944117144233, informed=False\n"
     ]
    },
    {
     "name": "stderr",
     "output_type": "stream",
     "text": [
      "100%|██████████| 10/10 [00:07<00:00,  1.36it/s]\n"
     ]
    },
    {
     "name": "stdout",
     "output_type": "stream",
     "text": [
      "Running Loopless clique - p=0.5, K=5, delta=0.15123975969049577, informed=False\n"
     ]
    },
    {
     "name": "stderr",
     "output_type": "stream",
     "text": [
      "100%|██████████| 10/10 [00:13<00:00,  1.33s/it]\n"
     ]
    },
    {
     "name": "stdout",
     "output_type": "stream",
     "text": [
      "Running Loopless clique - p=0.5, K=5, delta=0.06217652402211632, informed=False\n"
     ]
    },
    {
     "name": "stderr",
     "output_type": "stream",
     "text": [
      "100%|██████████| 10/10 [00:13<00:00,  1.35s/it]\n"
     ]
    },
    {
     "name": "stdout",
     "output_type": "stream",
     "text": [
      "Running Loopless clique - p=0.5, K=5, delta=0.025561533206507402, informed=False\n"
     ]
    },
    {
     "name": "stderr",
     "output_type": "stream",
     "text": [
      "100%|██████████| 10/10 [00:16<00:00,  1.67s/it]\n"
     ]
    },
    {
     "name": "stdout",
     "output_type": "stream",
     "text": [
      "Running Loopless clique - p=0.5, K=5, delta=0.01050866046540279, informed=False\n"
     ]
    },
    {
     "name": "stderr",
     "output_type": "stream",
     "text": [
      "100%|██████████| 10/10 [00:23<00:00,  2.34s/it]\n"
     ]
    },
    {
     "name": "stdout",
     "output_type": "stream",
     "text": [
      "Running Loopless clique - p=0.5, K=5, delta=0.004320239474094066, informed=False\n"
     ]
    },
    {
     "name": "stderr",
     "output_type": "stream",
     "text": [
      "100%|██████████| 10/10 [00:27<00:00,  2.72s/it]\n"
     ]
    },
    {
     "name": "stdout",
     "output_type": "stream",
     "text": [
      "Running Loopless clique - p=0.5, K=5, delta=0.0017761035457343791, informed=False\n"
     ]
    },
    {
     "name": "stderr",
     "output_type": "stream",
     "text": [
      "100%|██████████| 10/10 [00:31<00:00,  3.19s/it]\n"
     ]
    },
    {
     "name": "stdout",
     "output_type": "stream",
     "text": [
      "Running Loopless clique - p=0.5, K=5, delta=0.0007301779968647981, informed=False\n"
     ]
    },
    {
     "name": "stderr",
     "output_type": "stream",
     "text": [
      "100%|██████████| 10/10 [00:53<00:00,  5.31s/it]\n"
     ]
    },
    {
     "name": "stdout",
     "output_type": "stream",
     "text": [
      "Running Loopless clique - p=0.5, K=5, delta=0.000300185148769037, informed=False\n"
     ]
    },
    {
     "name": "stderr",
     "output_type": "stream",
     "text": [
      "100%|██████████| 10/10 [01:24<00:00,  8.50s/it]\n"
     ]
    },
    {
     "name": "stdout",
     "output_type": "stream",
     "text": [
      "Running Loopless clique - p=0.5, K=5, delta=0.00012340980408667956, informed=False\n"
     ]
    },
    {
     "name": "stderr",
     "output_type": "stream",
     "text": [
      "100%|██████████| 10/10 [01:29<00:00,  8.97s/it]\n"
     ]
    },
    {
     "name": "stdout",
     "output_type": "stream",
     "text": [
      "Running Loopless clique - p=0.5, K=10, delta=0.36787944117144233, informed=False\n"
     ]
    },
    {
     "name": "stderr",
     "output_type": "stream",
     "text": [
      "100%|██████████| 10/10 [00:17<00:00,  1.79s/it]\n"
     ]
    },
    {
     "name": "stdout",
     "output_type": "stream",
     "text": [
      "Running Loopless clique - p=0.5, K=10, delta=0.15123975969049577, informed=False\n"
     ]
    },
    {
     "name": "stderr",
     "output_type": "stream",
     "text": [
      "100%|██████████| 10/10 [00:37<00:00,  3.73s/it]\n"
     ]
    },
    {
     "name": "stdout",
     "output_type": "stream",
     "text": [
      "Running Loopless clique - p=0.5, K=10, delta=0.06217652402211632, informed=False\n"
     ]
    },
    {
     "name": "stderr",
     "output_type": "stream",
     "text": [
      "100%|██████████| 10/10 [01:00<00:00,  6.07s/it]\n"
     ]
    },
    {
     "name": "stdout",
     "output_type": "stream",
     "text": [
      "Running Loopless clique - p=0.5, K=10, delta=0.025561533206507402, informed=False\n"
     ]
    },
    {
     "name": "stderr",
     "output_type": "stream",
     "text": [
      "100%|██████████| 10/10 [00:59<00:00,  5.97s/it]\n"
     ]
    },
    {
     "name": "stdout",
     "output_type": "stream",
     "text": [
      "Running Loopless clique - p=0.5, K=10, delta=0.01050866046540279, informed=False\n"
     ]
    },
    {
     "name": "stderr",
     "output_type": "stream",
     "text": [
      "100%|██████████| 10/10 [01:05<00:00,  6.55s/it]\n"
     ]
    },
    {
     "name": "stdout",
     "output_type": "stream",
     "text": [
      "Running Loopless clique - p=0.5, K=10, delta=0.004320239474094066, informed=False\n"
     ]
    },
    {
     "name": "stderr",
     "output_type": "stream",
     "text": [
      " 60%|██████    | 6/10 [00:43<00:28,  7.24s/it]\n"
     ]
    },
    {
     "ename": "KeyboardInterrupt",
     "evalue": "",
     "output_type": "error",
     "traceback": [
      "\u001b[1;31m---------------------------------------------------------------------------\u001b[0m",
      "\u001b[1;31mKeyboardInterrupt\u001b[0m                         Traceback (most recent call last)",
      "Cell \u001b[1;32mIn[9], line 8\u001b[0m\n\u001b[0;32m      6\u001b[0m \u001b[38;5;28;01mfor\u001b[39;00m algo \u001b[38;5;129;01min\u001b[39;00m algorithms:\n\u001b[0;32m      7\u001b[0m     algo \u001b[38;5;241m=\u001b[39m make_model(algName\u001b[38;5;241m=\u001b[39malgo, K\u001b[38;5;241m=\u001b[39menv\u001b[38;5;241m.\u001b[39mfg\u001b[38;5;241m.\u001b[39mK, fg\u001b[38;5;241m=\u001b[39menv\u001b[38;5;241m.\u001b[39mfg, delta\u001b[38;5;241m=\u001b[39menv\u001b[38;5;241m.\u001b[39mdelta, informed\u001b[38;5;241m=\u001b[39menv\u001b[38;5;241m.\u001b[39minformed)\n\u001b[1;32m----> 8\u001b[0m     results \u001b[38;5;241m=\u001b[39m \u001b[43mrun_experiment\u001b[49m\u001b[43m(\u001b[49m\u001b[43mfg\u001b[49m\u001b[38;5;241;43m=\u001b[39;49m\u001b[43menv\u001b[49m\u001b[38;5;241;43m.\u001b[39;49m\u001b[43mfg\u001b[49m\u001b[43m,\u001b[49m\u001b[43m \u001b[49m\u001b[43malgo\u001b[49m\u001b[38;5;241;43m=\u001b[39;49m\u001b[43malgo\u001b[49m\u001b[43m,\u001b[49m\u001b[43m \u001b[49m\u001b[43mseed\u001b[49m\u001b[38;5;241;43m=\u001b[39;49m\u001b[43mn\u001b[49m\u001b[43m)\u001b[49m\n\u001b[0;32m     10\u001b[0m     \u001b[38;5;28;01mif\u001b[39;00m algo\u001b[38;5;241m.\u001b[39mNAME \u001b[38;5;129;01mnot\u001b[39;00m \u001b[38;5;129;01min\u001b[39;00m env\u001b[38;5;241m.\u001b[39mresults:\n\u001b[0;32m     11\u001b[0m         env\u001b[38;5;241m.\u001b[39mresults[algo\u001b[38;5;241m.\u001b[39mNAME] \u001b[38;5;241m=\u001b[39m []\n",
      "File \u001b[1;32mc:\\Users\\russo\\github\\Best-Arm-Identification-with-Feedback-Graph\\environment.py:34\u001b[0m, in \u001b[0;36mrun_experiment\u001b[1;34m(fg, algo, seed)\u001b[0m\n\u001b[0;32m     32\u001b[0m \u001b[38;5;28;01mwhile\u001b[39;00m \u001b[38;5;129;01mnot\u001b[39;00m algo\u001b[38;5;241m.\u001b[39mshould_stop(time\u001b[38;5;241m=\u001b[39mt):\n\u001b[0;32m     33\u001b[0m     Vt \u001b[38;5;241m=\u001b[39m algo\u001b[38;5;241m.\u001b[39msample(t)\n\u001b[1;32m---> 34\u001b[0m     Yt \u001b[38;5;241m=\u001b[39m \u001b[43mnp\u001b[49m\u001b[38;5;241;43m.\u001b[39;49m\u001b[43mrandom\u001b[49m\u001b[38;5;241;43m.\u001b[39;49m\u001b[43mbinomial\u001b[49m\u001b[43m(\u001b[49m\u001b[43mn\u001b[49m\u001b[38;5;241;43m=\u001b[39;49m\u001b[38;5;241;43m1\u001b[39;49m\u001b[43m,\u001b[49m\u001b[43m \u001b[49m\u001b[43mp\u001b[49m\u001b[38;5;241;43m=\u001b[39;49m\u001b[43mfg\u001b[49m\u001b[38;5;241;43m.\u001b[39;49m\u001b[43mgraph\u001b[49m\u001b[38;5;241;43m.\u001b[39;49m\u001b[43mG\u001b[49m\u001b[43m[\u001b[49m\u001b[43mVt\u001b[49m\u001b[43m]\u001b[49m\u001b[43m)\u001b[49m\u001b[38;5;241m.\u001b[39mastype(np\u001b[38;5;241m.\u001b[39mfloat64)\n\u001b[0;32m     35\u001b[0m     Rt \u001b[38;5;241m=\u001b[39m fg\u001b[38;5;241m.\u001b[39mreward_model\u001b[38;5;241m.\u001b[39msample()\n\u001b[0;32m     36\u001b[0m     Zt \u001b[38;5;241m=\u001b[39m Yt \u001b[38;5;241m*\u001b[39m Rt\n",
      "\u001b[1;31mKeyboardInterrupt\u001b[0m: "
     ]
    }
   ],
   "source": [
    "\n",
    "Nsims = 10\n",
    "\n",
    "for env in envs:\n",
    "    print(f'Running {env.name} - {env.description}')\n",
    "    for n in tqdm(range(Nsims)):\n",
    "        for algo in algorithms:\n",
    "            algo = make_model(algName=algo, K=env.fg.K, fg=env.fg, delta=env.delta, informed=env.informed)\n",
    "            results = run_experiment(fg=env.fg, algo=algo, seed=n)\n",
    "\n",
    "            if algo.NAME not in env.results:\n",
    "                env.results[algo.NAME] = []\n",
    "            env.results[algo.NAME].append(results)\n"
   ]
  },
  {
   "cell_type": "code",
   "execution_count": 7,
   "metadata": {},
   "outputs": [
    {
     "data": {
      "text/plain": [
       "RunParameters(name='Loopless clique', description='p=0.5, K=5, delta=0.049787068367863944, informed=False', delta=np.float64(0.049787068367863944), informed=True, known=False, fg=<baifg.model.feedback_graph.FeedbackGraph object at 0x000001D37DF85790>, results={'Epsilon-greedy': [RunStatistics(estimated_best_vertex=np.int64(4), stopping_time=1768), RunStatistics(estimated_best_vertex=np.int64(4), stopping_time=245), RunStatistics(estimated_best_vertex=np.int64(4), stopping_time=747), RunStatistics(estimated_best_vertex=np.int64(4), stopping_time=5229), RunStatistics(estimated_best_vertex=np.int64(4), stopping_time=514), RunStatistics(estimated_best_vertex=np.int64(4), stopping_time=446), RunStatistics(estimated_best_vertex=np.int64(4), stopping_time=6272), RunStatistics(estimated_best_vertex=np.int64(4), stopping_time=1921), RunStatistics(estimated_best_vertex=np.int64(4), stopping_time=4211), RunStatistics(estimated_best_vertex=np.int64(4), stopping_time=737)], 'UCB': [RunStatistics(estimated_best_vertex=np.int64(4), stopping_time=2287), RunStatistics(estimated_best_vertex=np.int64(4), stopping_time=379), RunStatistics(estimated_best_vertex=np.int64(4), stopping_time=2176), RunStatistics(estimated_best_vertex=np.int64(4), stopping_time=167), RunStatistics(estimated_best_vertex=np.int64(4), stopping_time=40), RunStatistics(estimated_best_vertex=np.int64(4), stopping_time=2034), RunStatistics(estimated_best_vertex=np.int64(4), stopping_time=4351), RunStatistics(estimated_best_vertex=np.int64(1), stopping_time=5), RunStatistics(estimated_best_vertex=np.int64(4), stopping_time=14), RunStatistics(estimated_best_vertex=np.int64(3), stopping_time=8)]})"
      ]
     },
     "execution_count": 7,
     "metadata": {},
     "output_type": "execute_result"
    }
   ],
   "source": [
    "env"
   ]
  },
  {
   "cell_type": "code",
   "execution_count": 5,
   "metadata": {},
   "outputs": [
    {
     "name": "stdout",
     "output_type": "stream",
     "text": [
      "[2. 2. 2. 1. 0.]\n",
      "[[0.5 1.5 0.5 1.  1. ]\n",
      " [1.  0.5 0.5 0.5 1. ]\n",
      " [1.  0.5 0.5 0.5 1. ]\n",
      " [2.  1.  2.  1.  2. ]\n",
      " [1.  1.  1.  1.  1. ]]\n"
     ]
    },
    {
     "data": {
      "text/plain": [
       "array([[0.72101344, 0.72101344, 0.72101344, 0.72101344, 0.72101344],\n",
       "       [0.72101344, 0.72101344, 0.72101344, 0.72101344, 0.72101344],\n",
       "       [0.72101344, 0.72101344, 0.72101344, 0.72101344, 0.72101344],\n",
       "       [1.01966699, 1.01966699, 1.01966699, 1.01966699, 1.01966699],\n",
       "       [1.01966699, 1.01966699, 1.01966699, 1.01966699, 1.01966699]])"
      ]
     },
     "execution_count": 5,
     "metadata": {},
     "output_type": "execute_result"
    }
   ],
   "source": [
    "print(algo.graph.N)\n",
    "# print(algo.graph.Npair)\n",
    "# print(algo.reward.M)\n",
    "# print(algo.reward.mu)\n",
    "print(algo.graph.G)\n",
    "algo.reward.confidence\n",
    "\n",
    "m = (algo.reward.mu + algo.reward.confidence).argmax()\n",
    "algo.graph.G[:,m]\n",
    "\n",
    "algo.graph.confidence\n"
   ]
  }
 ],
 "metadata": {
  "kernelspec": {
   "display_name": ".venv",
   "language": "python",
   "name": "python3"
  },
  "language_info": {
   "codemirror_mode": {
    "name": "ipython",
    "version": 3
   },
   "file_extension": ".py",
   "mimetype": "text/x-python",
   "name": "python",
   "nbconvert_exporter": "python",
   "pygments_lexer": "ipython3",
   "version": "3.11.9"
  }
 },
 "nbformat": 4,
 "nbformat_minor": 2
}
