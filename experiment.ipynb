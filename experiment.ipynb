{
 "cells": [
  {
   "cell_type": "code",
   "execution_count": 1,
   "metadata": {},
   "outputs": [],
   "source": [
    "import numpy as np\n",
    "import pandas as pd\n",
    "import seaborn as sns\n",
    "import matplotlib.pyplot as plt\n",
    "from environment import run_experiment, RunParameters, RunStatistics\n",
    "from baifg.model.feedback_graph import FeedbackGraph\n",
    "from baifg.model.reward_model import GaussianRewardModel, RewardType\n",
    "from baifg.algorithms.eps_greedy import EpsilonGreedy, EpsilonGreedyParameters\n",
    "from baifg.algorithms.ucb import UCB\n",
    "from baifg.algorithms.exp3g import Exp3G, Exp3GParameters\n",
    "from baifg.algorithms.base.graph_estimator import GraphEstimator\n",
    "from baifg.algorithms.base.base_algorithm import BaseAlg\n",
    "from baifg.utils.graphs import make_loopless_clique, make_loopystar_graph\n",
    "from itertools import product\n",
    "from typing import List, NamedTuple\n",
    "from tqdm import tqdm\n",
    "\n",
    "def make_model(algo_name: BaseAlg, algo_params: NamedTuple, K: int, fg: FeedbackGraph, delta: float, informed: bool) -> BaseAlg:\n",
    "    if algo_name == EpsilonGreedy:\n",
    "        return EpsilonGreedy(\n",
    "            GraphEstimator.optimistic_graph(K, informed=informed, known=False),\n",
    "            fg.reward_model.reward_type,\n",
    "            delta=delta,\n",
    "            parameters=algo_params)\n",
    "    elif algo_name == UCB:\n",
    "        return UCB(\n",
    "            GraphEstimator.optimistic_graph(K, informed=informed, known=False),\n",
    "            reward_type=fg.reward_model.reward_type,\n",
    "            delta=delta)\n",
    "    elif algo_name == Exp3G:\n",
    "        return Exp3G(\n",
    "            GraphEstimator.optimistic_graph(K, informed=informed, known=False),\n",
    "            reward_type=fg.reward_model.reward_type,\n",
    "            delta=delta,\n",
    "            parameters=algo_params\n",
    "        )\n",
    "    raise Exception('Algorithm not found')\n",
    "\n"
   ]
  },
  {
   "cell_type": "code",
   "execution_count": 3,
   "metadata": {},
   "outputs": [],
   "source": [
    "envs: List[RunParameters] = []\n",
    "Kvalues = [5]\n",
    "delta = np.exp(-np.linspace(1,6,5))\n",
    "\n",
    "for K, delta, informed in product(Kvalues, delta, [False]):\n",
    "    envs.append(\n",
    "        RunParameters('Loopless clique', f'p=0.5, K={K}, delta={delta}, informed={informed}', delta, informed=True,\n",
    "                      known=False, fg=make_loopless_clique(p=0.5, mu=np.linspace(0, 1, K)),\n",
    "                      results = {})\n",
    "    )\n",
    "    envs.append(\n",
    "        RunParameters('Loopystar', f'p=0.5, K={K}, delta={delta}, informed={informed}', delta, informed=True,\n",
    "                      known=False, fg=make_loopless_clique(p=0.5, mu=np.linspace(0, 1, K)),\n",
    "                      results = {})\n",
    "    )\n",
    "\n",
    "algorithms = [\n",
    "    (EpsilonGreedy, EpsilonGreedyParameters(exp_rate=0.3, information_greedy=False)),\n",
    "    (EpsilonGreedy, EpsilonGreedyParameters(exp_rate=0.3, information_greedy=True)),\n",
    "    (Exp3G, Exp3GParameters(exp_rate=0.3, learn_rate=0.1)),\n",
    "    (UCB, None)]\n"
   ]
  },
  {
   "cell_type": "code",
   "execution_count": 4,
   "metadata": {},
   "outputs": [
    {
     "name": "stdout",
     "output_type": "stream",
     "text": [
      "Running Loopless clique - p=0.5, K=5, delta=0.1353352832366127, informed=False\n"
     ]
    },
    {
     "name": "stderr",
     "output_type": "stream",
     "text": [
      "  0%|          | 0/10 [00:00<?, ?it/s]"
     ]
    },
    {
     "name": "stderr",
     "output_type": "stream",
     "text": [
      "100%|██████████| 10/10 [00:10<00:00,  1.09s/it]\n"
     ]
    },
    {
     "name": "stdout",
     "output_type": "stream",
     "text": [
      "Running Loopless clique - p=0.5, K=5, delta=0.049787068367863944, informed=False\n"
     ]
    },
    {
     "name": "stderr",
     "output_type": "stream",
     "text": [
      "100%|██████████| 10/10 [00:16<00:00,  1.60s/it]\n"
     ]
    },
    {
     "name": "stdout",
     "output_type": "stream",
     "text": [
      "Running Loopless clique - p=0.5, K=5, delta=0.01831563888873418, informed=False\n"
     ]
    },
    {
     "name": "stderr",
     "output_type": "stream",
     "text": [
      "100%|██████████| 10/10 [00:21<00:00,  2.19s/it]\n"
     ]
    },
    {
     "name": "stdout",
     "output_type": "stream",
     "text": [
      "Running Loopless clique - p=0.5, K=5, delta=0.006737946999085467, informed=False\n"
     ]
    },
    {
     "name": "stderr",
     "output_type": "stream",
     "text": [
      "100%|██████████| 10/10 [00:31<00:00,  3.19s/it]\n"
     ]
    },
    {
     "name": "stdout",
     "output_type": "stream",
     "text": [
      "Running Loopless clique - p=0.5, K=5, delta=0.0024787521766663585, informed=False\n"
     ]
    },
    {
     "name": "stderr",
     "output_type": "stream",
     "text": [
      "100%|██████████| 10/10 [00:40<00:00,  4.06s/it]\n"
     ]
    }
   ],
   "source": [
    "\n",
    "Nsims = 10\n",
    "\n",
    "df = pd.DataFrame({},  columns =  [\"env\", \"K\", \"seed\", \"algorithm\", \"delta\", \"stopping_time\", \"identified_optimal_arm\"])\n",
    "\n",
    "for env in envs:\n",
    "    print(f'Running {env.name} - {env.description}')\n",
    "    for n in tqdm(range(Nsims)):\n",
    "        for algo, algo_params in algorithms:\n",
    "            algo = make_model(algo_name=algo, algo_params=algo_params,\n",
    "                              K=env.fg.K, fg=env.fg, delta=env.delta, informed=env.informed)\n",
    "            results = run_experiment(fg=env.fg, algo=algo, seed=n)\n",
    "\n",
    "            if algo.NAME not in env.results:\n",
    "                env.results[algo.NAME] = []\n",
    "            env.results[algo.NAME].append(results)\n",
    "\n",
    "            df.loc[len(df.index)] = [\n",
    "                env.name, env.fg.K, n, algo.NAME, env.delta, results.stopping_time, \n",
    "                results.estimated_best_vertex == env.fg.reward_model.astar]\n"
   ]
  },
  {
   "cell_type": "code",
   "execution_count": 9,
   "metadata": {},
   "outputs": [
    {
     "data": {
      "image/png": "[encoded data removed]",
      "text/plain": [
       "<Figure size 1000x600 with 1 Axes>"
      ]
     },
     "metadata": {},
     "output_type": "display_data"
    }
   ],
   "source": [
    "\n",
    "\n",
    "# Filter the DataFrame for a given environment, e.g., \"Loopless clique\"\n",
    "filtered_df = df[df['env'] == 'Loopless clique']\n",
    "filtered_df['delta'] = np.log(1/filtered_df['delta']).round(3)\n",
    "# Create the boxplot\n",
    "plt.figure(figsize=(10, 6))\n",
    "sns.boxplot(x='delta', y='stopping_time', hue='algorithm', data=filtered_df)\n",
    "\n",
    "# Customize labels\n",
    "plt.xlabel(r'$\\ln(1/\\delta)$')\n",
    "plt.ylabel(r'Stopping Time $\\tau$')\n",
    "plt.title('Distribution of Stopping Times by Algorithm for Different Delta Values')\n",
    "plt.legend(title='Algorithm')\n",
    "#plt.gca().invert_xaxis()\n",
    "\n",
    "# Display the plot\n",
    "plt.show()"
   ]
  },
  {
   "cell_type": "code",
   "execution_count": 12,
   "metadata": {},
   "outputs": [
    {
     "data": {
      "text/html": [
       "<div>\n",
       "<style scoped>\n",
       "    .dataframe tbody tr th:only-of-type {\n",
       "        vertical-align: middle;\n",
       "    }\n",
       "\n",
       "    .dataframe tbody tr th {\n",
       "        vertical-align: top;\n",
       "    }\n",
       "\n",
       "    .dataframe thead th {\n",
       "        text-align: right;\n",
       "    }\n",
       "</style>\n",
       "<table border=\"1\" class=\"dataframe\">\n",
       "  <thead>\n",
       "    <tr style=\"text-align: right;\">\n",
       "      <th></th>\n",
       "      <th>env</th>\n",
       "      <th>K</th>\n",
       "      <th>seed</th>\n",
       "      <th>algorithm</th>\n",
       "      <th>delta</th>\n",
       "      <th>stopping_time</th>\n",
       "      <th>identified_optimal_arm</th>\n",
       "    </tr>\n",
       "  </thead>\n",
       "  <tbody>\n",
       "    <tr>\n",
       "      <th>0</th>\n",
       "      <td>Loopless clique</td>\n",
       "      <td>6</td>\n",
       "      <td>0</td>\n",
       "      <td>Epsilon-greedy</td>\n",
       "      <td>0.135335</td>\n",
       "      <td>921</td>\n",
       "      <td>True</td>\n",
       "    </tr>\n",
       "    <tr>\n",
       "      <th>1</th>\n",
       "      <td>Loopless clique</td>\n",
       "      <td>6</td>\n",
       "      <td>0</td>\n",
       "      <td>Epsilon-greedy IG</td>\n",
       "      <td>0.135335</td>\n",
       "      <td>2595</td>\n",
       "      <td>True</td>\n",
       "    </tr>\n",
       "    <tr>\n",
       "      <th>2</th>\n",
       "      <td>Loopless clique</td>\n",
       "      <td>6</td>\n",
       "      <td>0</td>\n",
       "      <td>UCB</td>\n",
       "      <td>0.135335</td>\n",
       "      <td>57</td>\n",
       "      <td>True</td>\n",
       "    </tr>\n",
       "    <tr>\n",
       "      <th>3</th>\n",
       "      <td>Loopless clique</td>\n",
       "      <td>6</td>\n",
       "      <td>1</td>\n",
       "      <td>Epsilon-greedy</td>\n",
       "      <td>0.135335</td>\n",
       "      <td>53</td>\n",
       "      <td>True</td>\n",
       "    </tr>\n",
       "    <tr>\n",
       "      <th>4</th>\n",
       "      <td>Loopless clique</td>\n",
       "      <td>6</td>\n",
       "      <td>1</td>\n",
       "      <td>Epsilon-greedy IG</td>\n",
       "      <td>0.135335</td>\n",
       "      <td>551</td>\n",
       "      <td>True</td>\n",
       "    </tr>\n",
       "    <tr>\n",
       "      <th>...</th>\n",
       "      <td>...</td>\n",
       "      <td>...</td>\n",
       "      <td>...</td>\n",
       "      <td>...</td>\n",
       "      <td>...</td>\n",
       "      <td>...</td>\n",
       "      <td>...</td>\n",
       "    </tr>\n",
       "    <tr>\n",
       "      <th>145</th>\n",
       "      <td>Loopless clique</td>\n",
       "      <td>6</td>\n",
       "      <td>8</td>\n",
       "      <td>Epsilon-greedy IG</td>\n",
       "      <td>0.002479</td>\n",
       "      <td>10398</td>\n",
       "      <td>True</td>\n",
       "    </tr>\n",
       "    <tr>\n",
       "      <th>146</th>\n",
       "      <td>Loopless clique</td>\n",
       "      <td>6</td>\n",
       "      <td>8</td>\n",
       "      <td>UCB</td>\n",
       "      <td>0.002479</td>\n",
       "      <td>15</td>\n",
       "      <td>False</td>\n",
       "    </tr>\n",
       "    <tr>\n",
       "      <th>147</th>\n",
       "      <td>Loopless clique</td>\n",
       "      <td>6</td>\n",
       "      <td>9</td>\n",
       "      <td>Epsilon-greedy</td>\n",
       "      <td>0.002479</td>\n",
       "      <td>737</td>\n",
       "      <td>True</td>\n",
       "    </tr>\n",
       "    <tr>\n",
       "      <th>148</th>\n",
       "      <td>Loopless clique</td>\n",
       "      <td>6</td>\n",
       "      <td>9</td>\n",
       "      <td>Epsilon-greedy IG</td>\n",
       "      <td>0.002479</td>\n",
       "      <td>10767</td>\n",
       "      <td>True</td>\n",
       "    </tr>\n",
       "    <tr>\n",
       "      <th>149</th>\n",
       "      <td>Loopless clique</td>\n",
       "      <td>6</td>\n",
       "      <td>9</td>\n",
       "      <td>UCB</td>\n",
       "      <td>0.002479</td>\n",
       "      <td>1542</td>\n",
       "      <td>True</td>\n",
       "    </tr>\n",
       "  </tbody>\n",
       "</table>\n",
       "<p>150 rows × 7 columns</p>\n",
       "</div>"
      ],
      "text/plain": [
       "                 env  K  seed          algorithm     delta  stopping_time  \\\n",
       "0    Loopless clique  6     0     Epsilon-greedy  0.135335            921   \n",
       "1    Loopless clique  6     0  Epsilon-greedy IG  0.135335           2595   \n",
       "2    Loopless clique  6     0                UCB  0.135335             57   \n",
       "3    Loopless clique  6     1     Epsilon-greedy  0.135335             53   \n",
       "4    Loopless clique  6     1  Epsilon-greedy IG  0.135335            551   \n",
       "..               ... ..   ...                ...       ...            ...   \n",
       "145  Loopless clique  6     8  Epsilon-greedy IG  0.002479          10398   \n",
       "146  Loopless clique  6     8                UCB  0.002479             15   \n",
       "147  Loopless clique  6     9     Epsilon-greedy  0.002479            737   \n",
       "148  Loopless clique  6     9  Epsilon-greedy IG  0.002479          10767   \n",
       "149  Loopless clique  6     9                UCB  0.002479           1542   \n",
       "\n",
       "     identified_optimal_arm  \n",
       "0                      True  \n",
       "1                      True  \n",
       "2                      True  \n",
       "3                      True  \n",
       "4                      True  \n",
       "..                      ...  \n",
       "145                    True  \n",
       "146                   False  \n",
       "147                    True  \n",
       "148                    True  \n",
       "149                    True  \n",
       "\n",
       "[150 rows x 7 columns]"
      ]
     },
     "execution_count": 12,
     "metadata": {},
     "output_type": "execute_result"
    }
   ],
   "source": [
    "df"
   ]
  },
  {
   "cell_type": "code",
   "execution_count": null,
   "metadata": {},
   "outputs": [],
   "source": [
    "df"
   ]
  },
  {
   "cell_type": "code",
   "execution_count": 16,
   "metadata": {},
   "outputs": [
    {
     "name": "stdout",
     "output_type": "stream",
     "text": [
      "[RunStatistics(estimated_best_vertex=np.int64(4), stopping_time=374), RunStatistics(estimated_best_vertex=np.int64(4), stopping_time=284), RunStatistics(estimated_best_vertex=np.int64(4), stopping_time=171), RunStatistics(estimated_best_vertex=np.int64(4), stopping_time=131), RunStatistics(estimated_best_vertex=np.int64(4), stopping_time=8), RunStatistics(estimated_best_vertex=np.int64(4), stopping_time=18), RunStatistics(estimated_best_vertex=np.int64(4), stopping_time=3975), RunStatistics(estimated_best_vertex=np.int64(4), stopping_time=7), RunStatistics(estimated_best_vertex=np.int64(4), stopping_time=205), RunStatistics(estimated_best_vertex=np.int64(4), stopping_time=214)]\n",
      "[RunStatistics(estimated_best_vertex=np.int64(1), stopping_time=6), RunStatistics(estimated_best_vertex=np.int64(4), stopping_time=359), RunStatistics(estimated_best_vertex=np.int64(4), stopping_time=16), RunStatistics(estimated_best_vertex=np.int64(4), stopping_time=6), RunStatistics(estimated_best_vertex=np.int64(4), stopping_time=23)]\n",
      "[RunStatistics(estimated_best_vertex=np.int64(4), stopping_time=1534), RunStatistics(estimated_best_vertex=np.int64(4), stopping_time=293), RunStatistics(estimated_best_vertex=np.int64(4), stopping_time=171), RunStatistics(estimated_best_vertex=np.int64(4), stopping_time=169), RunStatistics(estimated_best_vertex=np.int64(4), stopping_time=9), RunStatistics(estimated_best_vertex=np.int64(4), stopping_time=19), RunStatistics(estimated_best_vertex=np.int64(4), stopping_time=4086), RunStatistics(estimated_best_vertex=np.int64(4), stopping_time=7), RunStatistics(estimated_best_vertex=np.int64(4), stopping_time=206), RunStatistics(estimated_best_vertex=np.int64(4), stopping_time=225)]\n",
      "[RunStatistics(estimated_best_vertex=np.int64(4), stopping_time=566), RunStatistics(estimated_best_vertex=np.int64(4), stopping_time=364), RunStatistics(estimated_best_vertex=np.int64(4), stopping_time=16), RunStatistics(estimated_best_vertex=np.int64(4), stopping_time=26), RunStatistics(estimated_best_vertex=np.int64(4), stopping_time=25)]\n",
      "[RunStatistics(estimated_best_vertex=np.int64(4), stopping_time=1703), RunStatistics(estimated_best_vertex=np.int64(4), stopping_time=374), RunStatistics(estimated_best_vertex=np.int64(4), stopping_time=171), RunStatistics(estimated_best_vertex=np.int64(4), stopping_time=183), RunStatistics(estimated_best_vertex=np.int64(4), stopping_time=10), RunStatistics(estimated_best_vertex=np.int64(4), stopping_time=386), RunStatistics(estimated_best_vertex=np.int64(4), stopping_time=5017), RunStatistics(estimated_best_vertex=np.int64(4), stopping_time=7), RunStatistics(estimated_best_vertex=np.int64(4), stopping_time=224), RunStatistics(estimated_best_vertex=np.int64(4), stopping_time=229)]\n",
      "[RunStatistics(estimated_best_vertex=np.int64(4), stopping_time=609), RunStatistics(estimated_best_vertex=np.int64(4), stopping_time=367), RunStatistics(estimated_best_vertex=np.int64(4), stopping_time=29), RunStatistics(estimated_best_vertex=np.int64(4), stopping_time=26), RunStatistics(estimated_best_vertex=np.int64(4), stopping_time=28)]\n",
      "[RunStatistics(estimated_best_vertex=np.int64(4), stopping_time=1767), RunStatistics(estimated_best_vertex=np.int64(4), stopping_time=395), RunStatistics(estimated_best_vertex=np.int64(4), stopping_time=185), RunStatistics(estimated_best_vertex=np.int64(4), stopping_time=209), RunStatistics(estimated_best_vertex=np.int64(4), stopping_time=747), RunStatistics(estimated_best_vertex=np.int64(4), stopping_time=585), RunStatistics(estimated_best_vertex=np.int64(4), stopping_time=5064), RunStatistics(estimated_best_vertex=np.int64(4), stopping_time=7), RunStatistics(estimated_best_vertex=np.int64(4), stopping_time=446), RunStatistics(estimated_best_vertex=np.int64(4), stopping_time=471)]\n",
      "[RunStatistics(estimated_best_vertex=np.int64(4), stopping_time=938), RunStatistics(estimated_best_vertex=np.int64(4), stopping_time=368), RunStatistics(estimated_best_vertex=np.int64(4), stopping_time=29), RunStatistics(estimated_best_vertex=np.int64(4), stopping_time=28), RunStatistics(estimated_best_vertex=np.int64(4), stopping_time=31)]\n",
      "[RunStatistics(estimated_best_vertex=np.int64(4), stopping_time=1768), RunStatistics(estimated_best_vertex=np.int64(4), stopping_time=562), RunStatistics(estimated_best_vertex=np.int64(4), stopping_time=245), RunStatistics(estimated_best_vertex=np.int64(4), stopping_time=212), RunStatistics(estimated_best_vertex=np.int64(4), stopping_time=747), RunStatistics(estimated_best_vertex=np.int64(4), stopping_time=599), RunStatistics(estimated_best_vertex=np.int64(4), stopping_time=5229), RunStatistics(estimated_best_vertex=np.int64(4), stopping_time=12), RunStatistics(estimated_best_vertex=np.int64(4), stopping_time=514), RunStatistics(estimated_best_vertex=np.int64(4), stopping_time=496)]\n",
      "[RunStatistics(estimated_best_vertex=np.int64(4), stopping_time=2287), RunStatistics(estimated_best_vertex=np.int64(4), stopping_time=379), RunStatistics(estimated_best_vertex=np.int64(4), stopping_time=2176), RunStatistics(estimated_best_vertex=np.int64(4), stopping_time=167), RunStatistics(estimated_best_vertex=np.int64(4), stopping_time=40)]\n",
      "[RunStatistics(estimated_best_vertex=np.int64(9), stopping_time=5620), RunStatistics(estimated_best_vertex=np.int64(9), stopping_time=33), RunStatistics(estimated_best_vertex=np.int64(9), stopping_time=69), RunStatistics(estimated_best_vertex=np.int64(9), stopping_time=10), RunStatistics(estimated_best_vertex=np.int64(9), stopping_time=5341), RunStatistics(estimated_best_vertex=np.int64(9), stopping_time=12059), RunStatistics(estimated_best_vertex=np.int64(9), stopping_time=708), RunStatistics(estimated_best_vertex=np.int64(9), stopping_time=288), RunStatistics(estimated_best_vertex=np.int64(9), stopping_time=80), RunStatistics(estimated_best_vertex=np.int64(9), stopping_time=6567)]\n",
      "[RunStatistics(estimated_best_vertex=np.int64(9), stopping_time=2201), RunStatistics(estimated_best_vertex=np.int64(9), stopping_time=922), RunStatistics(estimated_best_vertex=np.int64(9), stopping_time=173), RunStatistics(estimated_best_vertex=np.int64(9), stopping_time=1742), RunStatistics(estimated_best_vertex=np.int64(9), stopping_time=5764)]\n",
      "[RunStatistics(estimated_best_vertex=np.int64(9), stopping_time=5639), RunStatistics(estimated_best_vertex=np.int64(9), stopping_time=33), RunStatistics(estimated_best_vertex=np.int64(9), stopping_time=75), RunStatistics(estimated_best_vertex=np.int64(9), stopping_time=115), RunStatistics(estimated_best_vertex=np.int64(9), stopping_time=5496), RunStatistics(estimated_best_vertex=np.int64(9), stopping_time=12399), RunStatistics(estimated_best_vertex=np.int64(9), stopping_time=724), RunStatistics(estimated_best_vertex=np.int64(9), stopping_time=1062), RunStatistics(estimated_best_vertex=np.int64(9), stopping_time=82), RunStatistics(estimated_best_vertex=np.int64(9), stopping_time=6851)]\n",
      "[RunStatistics(estimated_best_vertex=np.int64(9), stopping_time=2265), RunStatistics(estimated_best_vertex=np.int64(9), stopping_time=925), RunStatistics(estimated_best_vertex=np.int64(9), stopping_time=173), RunStatistics(estimated_best_vertex=np.int64(9), stopping_time=2227), RunStatistics(estimated_best_vertex=np.int64(9), stopping_time=6209)]\n",
      "[RunStatistics(estimated_best_vertex=np.int64(9), stopping_time=5720), RunStatistics(estimated_best_vertex=np.int64(9), stopping_time=33), RunStatistics(estimated_best_vertex=np.int64(9), stopping_time=81), RunStatistics(estimated_best_vertex=np.int64(9), stopping_time=33987), RunStatistics(estimated_best_vertex=np.int64(9), stopping_time=6114), RunStatistics(estimated_best_vertex=np.int64(9), stopping_time=14869), RunStatistics(estimated_best_vertex=np.int64(9), stopping_time=2184), RunStatistics(estimated_best_vertex=np.int64(9), stopping_time=1265), RunStatistics(estimated_best_vertex=np.int64(9), stopping_time=82), RunStatistics(estimated_best_vertex=np.int64(9), stopping_time=9088)]\n",
      "[RunStatistics(estimated_best_vertex=np.int64(9), stopping_time=2434), RunStatistics(estimated_best_vertex=np.int64(9), stopping_time=954), RunStatistics(estimated_best_vertex=np.int64(9), stopping_time=831), RunStatistics(estimated_best_vertex=np.int64(9), stopping_time=2237), RunStatistics(estimated_best_vertex=np.int64(9), stopping_time=6581)]\n",
      "[RunStatistics(estimated_best_vertex=np.int64(9), stopping_time=6477), RunStatistics(estimated_best_vertex=np.int64(9), stopping_time=33), RunStatistics(estimated_best_vertex=np.int64(9), stopping_time=81), RunStatistics(estimated_best_vertex=np.int64(9), stopping_time=34716), RunStatistics(estimated_best_vertex=np.int64(9), stopping_time=6481), RunStatistics(estimated_best_vertex=np.int64(9), stopping_time=15060), RunStatistics(estimated_best_vertex=np.int64(9), stopping_time=2283), RunStatistics(estimated_best_vertex=np.int64(9), stopping_time=18174), RunStatistics(estimated_best_vertex=np.int64(9), stopping_time=84), RunStatistics(estimated_best_vertex=np.int64(9), stopping_time=9579)]\n",
      "[RunStatistics(estimated_best_vertex=np.int64(9), stopping_time=2497), RunStatistics(estimated_best_vertex=np.int64(9), stopping_time=961), RunStatistics(estimated_best_vertex=np.int64(9), stopping_time=834), RunStatistics(estimated_best_vertex=np.int64(9), stopping_time=5273), RunStatistics(estimated_best_vertex=np.int64(9), stopping_time=6606)]\n",
      "[RunStatistics(estimated_best_vertex=np.int64(9), stopping_time=6516), RunStatistics(estimated_best_vertex=np.int64(9), stopping_time=7915), RunStatistics(estimated_best_vertex=np.int64(9), stopping_time=6860), RunStatistics(estimated_best_vertex=np.int64(9), stopping_time=42334), RunStatistics(estimated_best_vertex=np.int64(9), stopping_time=6519), RunStatistics(estimated_best_vertex=np.int64(9), stopping_time=15189), RunStatistics(estimated_best_vertex=np.int64(9), stopping_time=2403), RunStatistics(estimated_best_vertex=np.int64(9), stopping_time=22658), RunStatistics(estimated_best_vertex=np.int64(9), stopping_time=3769), RunStatistics(estimated_best_vertex=np.int64(9), stopping_time=13460)]\n",
      "[RunStatistics(estimated_best_vertex=np.int64(9), stopping_time=2577), RunStatistics(estimated_best_vertex=np.int64(9), stopping_time=1055), RunStatistics(estimated_best_vertex=np.int64(9), stopping_time=866), RunStatistics(estimated_best_vertex=np.int64(9), stopping_time=5346), RunStatistics(estimated_best_vertex=np.int64(9), stopping_time=7559)]\n"
     ]
    }
   ],
   "source": [
    "import matplotlib.pyplot as plt\n",
    "fig, ax = plt.subplots(1,1, figsize=(8,4))\n",
    "for env in envs:\n",
    "    for key in env.results.keys():\n",
    "        [res.stopping_time for res in env.results[key]]"
   ]
  },
  {
   "cell_type": "code",
   "execution_count": 5,
   "metadata": {},
   "outputs": [
    {
     "name": "stdout",
     "output_type": "stream",
     "text": [
      "[7268.   56.   43.   32.   26.   26.   29.   26.   32.   20.]\n",
      "[[1.37589433e-04 4.93258118e-01 4.91607045e-01 5.00000000e-01\n",
      "  5.03439736e-01 4.98761695e-01 4.91331866e-01 4.95321959e-01\n",
      "  4.97660980e-01 5.08392955e-01]\n",
      " [8.39285714e-01 1.78571429e-02 6.96428571e-01 2.32142857e-01\n",
      "  8.21428571e-01 2.85714286e-01 7.32142857e-01 2.50000000e-01\n",
      "  7.50000000e-01 2.50000000e-01]\n",
      " [9.06976744e-01 2.09302326e-01 2.32558140e-02 2.09302326e-01\n",
      "  8.13953488e-01 2.32558140e-01 9.06976744e-01 2.32558140e-01\n",
      "  9.30232558e-01 2.09302326e-01]\n",
      " [8.12500000e-01 1.87500000e-01 9.37500000e-01 3.12500000e-02\n",
      "  9.06250000e-01 1.87500000e-01 7.81250000e-01 2.18750000e-01\n",
      "  9.37500000e-01 1.56250000e-01]\n",
      " [9.61538462e-01 2.30769231e-01 8.46153846e-01 2.30769231e-01\n",
      "  3.84615385e-02 1.92307692e-01 8.46153846e-01 2.30769231e-01\n",
      "  9.23076923e-01 1.15384615e-01]\n",
      " [9.61538462e-01 1.15384615e-01 9.61538462e-01 7.69230769e-02\n",
      "  9.61538462e-01 3.84615385e-02 8.84615385e-01 7.69230769e-02\n",
      "  9.23076923e-01 1.15384615e-01]\n",
      " [9.65517241e-01 6.89655172e-02 1.03448276e+00 1.37931034e-01\n",
      "  9.31034483e-01 1.03448276e-01 3.44827586e-02 3.44827586e-02\n",
      "  9.31034483e-01 1.37931034e-01]\n",
      " [1.00000000e+00 1.15384615e-01 9.61538462e-01 3.84615385e-02\n",
      "  9.61538462e-01 1.15384615e-01 1.00000000e+00 3.84615385e-02\n",
      "  1.00000000e+00 1.15384615e-01]\n",
      " [9.37500000e-01 3.12500000e-02 9.68750000e-01 3.12500000e-02\n",
      "  9.68750000e-01 1.25000000e-01 9.68750000e-01 9.37500000e-02\n",
      "  3.12500000e-02 1.56250000e-01]\n",
      " [1.05000000e+00 1.00000000e-01 9.50000000e-01 1.00000000e-01\n",
      "  1.05000000e+00 1.00000000e-01 1.00000000e+00 1.50000000e-01\n",
      "  1.05000000e+00 5.00000000e-02]]\n"
     ]
    },
    {
     "data": {
      "text/plain": [
       "array([[0.0247865 , 0.0247865 , 0.0247865 , 0.0247865 , 0.0247865 ,\n",
       "        0.0247865 , 0.0247865 , 0.0247865 , 0.0247865 , 0.0247865 ],\n",
       "       [0.28237662, 0.28237662, 0.28237662, 0.28237662, 0.28237662,\n",
       "        0.28237662, 0.28237662, 0.28237662, 0.28237662, 0.28237662],\n",
       "       [0.32224673, 0.32224673, 0.32224673, 0.32224673, 0.32224673,\n",
       "        0.32224673, 0.32224673, 0.32224673, 0.32224673, 0.32224673],\n",
       "       [0.37354916, 0.37354916, 0.37354916, 0.37354916, 0.37354916,\n",
       "        0.37354916, 0.37354916, 0.37354916, 0.37354916, 0.37354916],\n",
       "       [0.41441558, 0.41441558, 0.41441558, 0.41441558, 0.41441558,\n",
       "        0.41441558, 0.41441558, 0.41441558, 0.41441558, 0.41441558],\n",
       "       [0.41441558, 0.41441558, 0.41441558, 0.41441558, 0.41441558,\n",
       "        0.41441558, 0.41441558, 0.41441558, 0.41441558, 0.41441558],\n",
       "       [0.39239526, 0.39239526, 0.39239526, 0.39239526, 0.39239526,\n",
       "        0.39239526, 0.39239526, 0.39239526, 0.39239526, 0.39239526],\n",
       "       [0.41441558, 0.41441558, 0.41441558, 0.41441558, 0.41441558,\n",
       "        0.41441558, 0.41441558, 0.41441558, 0.41441558, 0.41441558],\n",
       "       [0.37354916, 0.37354916, 0.37354916, 0.37354916, 0.37354916,\n",
       "        0.37354916, 0.37354916, 0.37354916, 0.37354916, 0.37354916],\n",
       "       [0.47250646, 0.47250646, 0.47250646, 0.47250646, 0.47250646,\n",
       "        0.47250646, 0.47250646, 0.47250646, 0.47250646, 0.47250646]])"
      ]
     },
     "execution_count": 5,
     "metadata": {},
     "output_type": "execute_result"
    }
   ],
   "source": [
    "print(algo.graph.N)\n",
    "# print(algo.graph.Npair)\n",
    "# print(algo.reward.M)\n",
    "# print(algo.reward.mu)\n",
    "print(algo.graph.G)\n",
    "algo.reward.confidence\n",
    "\n",
    "m = (algo.reward.mu + algo.reward.confidence).argmax()\n",
    "algo.graph.G[:,m]\n",
    "\n",
    "algo.graph.confidence\n"
   ]
  }
 ],
 "metadata": {
  "kernelspec": {
   "display_name": ".venv",
   "language": "python",
   "name": "python3"
  },
  "language_info": {
   "codemirror_mode": {
    "name": "ipython",
    "version": 3
   },
   "file_extension": ".py",
   "mimetype": "text/x-python",
   "name": "python",
   "nbconvert_exporter": "python",
   "pygments_lexer": "ipython3",
   "version": "3.11.9"
  }
 },
 "nbformat": 4,
 "nbformat_minor": 2
}
